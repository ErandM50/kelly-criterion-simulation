{
 "cells": [
  {
   "cell_type": "code",
   "execution_count": 125,
   "metadata": {},
   "outputs": [],
   "source": [
    "import random\n",
    "import matplotlib.pyplot as plt"
   ]
  },
  {
   "cell_type": "markdown",
   "metadata": {},
   "source": [
    "### Functions"
   ]
  },
  {
   "cell_type": "code",
   "execution_count": 155,
   "metadata": {},
   "outputs": [],
   "source": [
    "def bernoulli_trial(p=0.5):\n",
    "    \"\"\"A function simulating a Bernoulli trial.\n",
    "    It returns \"Success\" with probability p, \n",
    "    and \"Failure\" with probability (1-p)\n",
    "    \"\"\"\n",
    "    return \"Success\" if random.uniform(0, 1) < p else \"Failure\""
   ]
  },
  {
   "cell_type": "code",
   "execution_count": 167,
   "metadata": {},
   "outputs": [],
   "source": [
    "def find_resulting_wealth(p, b, N, initial_wealth, steps=10):\n",
    "    result_tuples = []\n",
    "    for i in range(steps+1):\n",
    "        x = i/steps                # proportion of wealth we are investing on each turn\n",
    "        wealth = initial_wealth # we start with wealth equal to initial wealth        \n",
    "        for i in range(N):      # number of bets\n",
    "            if bernoulli_trial(p) == \"Success\": \n",
    "                wealth += b*x*wealth\n",
    "            else: # Failure\n",
    "                wealth -= x*wealth\n",
    "        result_tuples.append((x, round(wealth)))\n",
    "    return result_tuples"
   ]
  },
  {
   "cell_type": "code",
   "execution_count": null,
   "metadata": {},
   "outputs": [],
   "source": [
    "def plot_graph(result_tuples):\n",
    "    \"\"\"Plots graph given the betting ratio - resulting wealth\n",
    "    tuples from the Kelly Criterion simmualtion game.\n",
    "    \"\"\"\n",
    "    plt.plot(*zip(*result_tuples), color=\"red\", linewidth=0.75)\n",
    "    plt.title('Simulation of Kelly Criterion betting game\\n'\n",
    "            f'p={p}, b={b}, N={N}, W0={initial_wealth}')\n",
    "    plt.xlabel('Proportion of wealth bet')\n",
    "    plt.ylabel('Final Wealth in $')\n",
    "    plt.show()"
   ]
  },
  {
   "cell_type": "markdown",
   "metadata": {},
   "source": [
    "### Set Initial Parameters"
   ]
  },
  {
   "cell_type": "code",
   "execution_count": 56,
   "metadata": {},
   "outputs": [],
   "source": [
    "p = 0.6                    # probability of Success\n",
    "b = 1                      # payoff multiplier of initial bet if Success\n",
    "N = 300                    # number of bets\n",
    "initial_wealth = 25        # initial dollar amount\n",
    "# x is the proportion of wealth that is bet on every turn."
   ]
  },
  {
   "cell_type": "markdown",
   "metadata": {},
   "source": [
    "### Run Program"
   ]
  },
  {
   "cell_type": "code",
   "execution_count": 190,
   "metadata": {},
   "outputs": [
    {
     "data": {
      "image/png": "[encoded data removed]",
      "text/plain": [
       "<Figure size 432x288 with 1 Axes>"
      ]
     },
     "metadata": {
      "needs_background": "light"
     },
     "output_type": "display_data"
    }
   ],
   "source": [
    "result_tuples = find_resulting_wealth(p, b, N, initial_wealth)\n",
    "plot_graph(result_tuples)"
   ]
  }
 ],
 "metadata": {
  "kernelspec": {
   "display_name": "Python 3.9.12 ('base')",
   "language": "python",
   "name": "python3"
  },
  "language_info": {
   "codemirror_mode": {
    "name": "ipython",
    "version": 3
   },
   "file_extension": ".py",
   "mimetype": "text/x-python",
   "name": "python",
   "nbconvert_exporter": "python",
   "pygments_lexer": "ipython3",
   "version": "3.9.12"
  },
  "orig_nbformat": 4,
  "vscode": {
   "interpreter": {
    "hash": "ad2bdc8ecc057115af97d19610ffacc2b4e99fae6737bb82f5d7fb13d2f2c186"
   }
  }
 },
 "nbformat": 4,
 "nbformat_minor": 2
}
